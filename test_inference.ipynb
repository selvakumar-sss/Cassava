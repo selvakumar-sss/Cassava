{
 "metadata": {
  "language_info": {
   "codemirror_mode": {
    "name": "ipython",
    "version": 3
   },
   "file_extension": ".py",
   "mimetype": "text/x-python",
   "name": "python",
   "nbconvert_exporter": "python",
   "pygments_lexer": "ipython3",
   "version": "3.6.10-final"
  },
  "orig_nbformat": 2,
  "kernelspec": {
   "name": "python3",
   "display_name": "Python 3",
   "language": "python"
  }
 },
 "nbformat": 4,
 "nbformat_minor": 2,
 "cells": [
  {
   "cell_type": "code",
   "execution_count": 2,
   "metadata": {},
   "outputs": [],
   "source": [
    "import pandas as pd\n",
    "from data import CassavaDataset\n",
    "from pathlib import Path\n",
    "from augmentations import get_augmentations,get_tta\n",
    "from torch.utils.data import DataLoader\n",
    "from lightning import CassavaModel\n",
    "import torch\n",
    "from models import Resnext"
   ]
  },
  {
   "cell_type": "code",
   "execution_count": 5,
   "metadata": {},
   "outputs": [
    {
     "output_type": "stream",
     "name": "stdout",
     "text": [
      "cassava-leaf-disease-classification.zip  \u001b[0m\u001b[01;34mtest_tfrecords\u001b[0m/  \u001b[01;34mtrain_tfrecords\u001b[0m/\nlabel_num_to_disease_map.json            train.csv        valid_df.pkl\nsample_submission.csv                    train_df.pkl\n\u001b[01;34mtest_images\u001b[0m/                             \u001b[01;34mtrain_images\u001b[0m/\n"
     ]
    }
   ],
   "source": [
    "ls ../data/"
   ]
  },
  {
   "cell_type": "code",
   "execution_count": 6,
   "metadata": {},
   "outputs": [],
   "source": [
    "test_df = pd.read_csv('../data/sample_submission.csv')\n",
    "path = Path('../data/')\n",
    "batch_size,num_workers = 64,8\n",
    "ssl_models = [\n",
    "    \"resnet18_ssl\",\n",
    "    \"resnet50_ssl\",\n",
    "    \"resnext50_32x4d_ssl\",\n",
    "    \"resnext101_32x4d_ssl\",\n",
    "    \"resnext101_32x8d_ssl\",\n",
    "    \"resnext101_32x16d_ssl\",\n",
    "]"
   ]
  },
  {
   "cell_type": "code",
   "execution_count": 7,
   "metadata": {},
   "outputs": [
    {
     "output_type": "execute_result",
     "data": {
      "text/plain": [
       "         image_id  label\n",
       "0  2216849948.jpg      4"
      ],
      "text/html": "<div>\n<style scoped>\n    .dataframe tbody tr th:only-of-type {\n        vertical-align: middle;\n    }\n\n    .dataframe tbody tr th {\n        vertical-align: top;\n    }\n\n    .dataframe thead th {\n        text-align: right;\n    }\n</style>\n<table border=\"1\" class=\"dataframe\">\n  <thead>\n    <tr style=\"text-align: right;\">\n      <th></th>\n      <th>image_id</th>\n      <th>label</th>\n    </tr>\n  </thead>\n  <tbody>\n    <tr>\n      <th>0</th>\n      <td>2216849948.jpg</td>\n      <td>4</td>\n    </tr>\n  </tbody>\n</table>\n</div>"
     },
     "metadata": {},
     "execution_count": 7
    }
   ],
   "source": [
    "test_df"
   ]
  },
  {
   "cell_type": "code",
   "execution_count": 8,
   "metadata": {},
   "outputs": [],
   "source": [
    "tta_tfms = get_tta(image_size=512)\n",
    "test_ds = CassavaDataset(path=path/'test_images',df=test_df,transform=tta_tfms)\n"
   ]
  },
  {
   "cell_type": "code",
   "execution_count": 9,
   "metadata": {},
   "outputs": [],
   "source": [
    "test_dl = DataLoader( dataset=test_ds,\n",
    "            batch_size=batch_size,\n",
    "            num_workers=num_workers,\n",
    "            shuffle=False,\n",
    "            pin_memory=True,)"
   ]
  },
  {
   "cell_type": "code",
   "execution_count": 10,
   "metadata": {},
   "outputs": [],
   "source": [
    "for xb,_ in test_dl:\n",
    "    break"
   ]
  },
  {
   "cell_type": "code",
   "execution_count": 11,
   "metadata": {},
   "outputs": [
    {
     "output_type": "execute_result",
     "data": {
      "text/plain": [
       "torch.Size([1, 3, 512, 512])"
      ]
     },
     "metadata": {},
     "execution_count": 11
    }
   ],
   "source": [
    "xb.shape"
   ]
  },
  {
   "cell_type": "code",
   "execution_count": 12,
   "metadata": {},
   "outputs": [
    {
     "output_type": "stream",
     "name": "stderr",
     "text": [
      "Using cache found in /root/.cache/torch/hub/facebookresearch_semi-supervised-ImageNet1K-models_master\n"
     ]
    }
   ],
   "source": [
    "device = torch.device('cuda')\n",
    "model = Resnext(model_name=ssl_models[2],num_classes=5,kaggle=True)\n",
    "model = model.to(device)\n"
   ]
  },
  {
   "cell_type": "code",
   "execution_count": 14,
   "metadata": {},
   "outputs": [],
   "source": [
    "for xb,_ in test_dl:\n",
    "    xb = xb.to(device)\n",
    "    preds = model(xb)\n"
   ]
  },
  {
   "cell_type": "code",
   "execution_count": 15,
   "metadata": {},
   "outputs": [
    {
     "output_type": "execute_result",
     "data": {
      "text/plain": [
       "torch.Size([1, 5])"
      ]
     },
     "metadata": {},
     "execution_count": 15
    }
   ],
   "source": [
    "preds.shape"
   ]
  },
  {
   "cell_type": "code",
   "execution_count": 17,
   "metadata": {},
   "outputs": [
    {
     "output_type": "stream",
     "name": "stdout",
     "text": [
      "total 4\ndrwxr-xr-x 4 root root   38 Dec 14 06:33 \u001b[0m\u001b[01;34m.\u001b[0m/\ndrwxr-xr-x 7 root root 4096 Dec 14 10:07 \u001b[01;34m..\u001b[0m/\ndrwxr-xr-x 3 root root   25 Dec 14 06:33 \u001b[01;34m1qip6pkk\u001b[0m/\ndrwxr-xr-x 3 root root   25 Dec 14 05:50 \u001b[01;34mcz4hh30s\u001b[0m/\n"
     ]
    }
   ],
   "source": [
    "ls -al 'Cassava Leaf Disease'/"
   ]
  },
  {
   "cell_type": "code",
   "execution_count": null,
   "metadata": {},
   "outputs": [],
   "source": []
  }
 ]
}