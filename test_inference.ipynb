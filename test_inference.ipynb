{
 "metadata": {
  "language_info": {
   "codemirror_mode": {
    "name": "ipython",
    "version": 3
   },
   "file_extension": ".py",
   "mimetype": "text/x-python",
   "name": "python",
   "nbconvert_exporter": "python",
   "pygments_lexer": "ipython3",
   "version": "3.6.10-final"
  },
  "orig_nbformat": 2,
  "kernelspec": {
   "name": "python3",
   "display_name": "Python 3",
   "language": "python"
  }
 },
 "nbformat": 4,
 "nbformat_minor": 2,
 "cells": [
  {
   "cell_type": "code",
   "execution_count": 1,
   "metadata": {},
   "outputs": [],
   "source": [
    "import pandas as pd\n",
    "from data import CassavaDataset\n",
    "from pathlib import Path\n",
    "from augmentations import get_augmentations,get_tta\n",
    "from torch.utils.data import DataLoader\n",
    "from lightning import CassavaModel\n",
    "import torch\n",
    "from models import Resnext"
   ]
  },
  {
   "cell_type": "code",
   "execution_count": 2,
   "metadata": {},
   "outputs": [],
   "source": [
    "test_df = pd.read_csv('../data/sample_submission.csv')\n",
    "path = Path('../data/')\n",
    "batch_size,num_workers = 32,8\n",
    "ssl_models = [\n",
    "    \"resnet18_ssl\",\n",
    "    \"resnet50_ssl\",\n",
    "    \"resnext50_32x4d_ssl\",\n",
    "    \"resnext101_32x4d_ssl\",\n",
    "    \"resnext101_32x8d_ssl\",\n",
    "    \"resnext101_32x16d_ssl\",\n",
    "]"
   ]
  },
  {
   "cell_type": "code",
   "execution_count": 3,
   "metadata": {},
   "outputs": [
    {
     "output_type": "execute_result",
     "data": {
      "text/plain": [
       "         image_id  label\n",
       "0  2216849948.jpg      4"
      ],
      "text/html": "<div>\n<style scoped>\n    .dataframe tbody tr th:only-of-type {\n        vertical-align: middle;\n    }\n\n    .dataframe tbody tr th {\n        vertical-align: top;\n    }\n\n    .dataframe thead th {\n        text-align: right;\n    }\n</style>\n<table border=\"1\" class=\"dataframe\">\n  <thead>\n    <tr style=\"text-align: right;\">\n      <th></th>\n      <th>image_id</th>\n      <th>label</th>\n    </tr>\n  </thead>\n  <tbody>\n    <tr>\n      <th>0</th>\n      <td>2216849948.jpg</td>\n      <td>4</td>\n    </tr>\n  </tbody>\n</table>\n</div>"
     },
     "metadata": {},
     "execution_count": 3
    }
   ],
   "source": [
    "test_df"
   ]
  },
  {
   "cell_type": "code",
   "execution_count": 4,
   "metadata": {},
   "outputs": [],
   "source": [
    "tta_tfms = get_tta(image_size=512)\n",
    "test_ds = CassavaDataset(path=path/'test_images',df=test_df,transform=tta_tfms)\n",
    "# test_df = pd.read_pickle('../data/valid_df.pkl')\n",
    "# test_ds = CassavaDataset(path=path/'train_images',df=test_df,transform=tta_tfms)\n"
   ]
  },
  {
   "cell_type": "code",
   "execution_count": 5,
   "metadata": {},
   "outputs": [],
   "source": [
    "test_dl = DataLoader( dataset=test_ds,\n",
    "            batch_size=batch_size,\n",
    "            num_workers=num_workers,\n",
    "            shuffle=False,\n",
    "            pin_memory=True,)"
   ]
  },
  {
   "cell_type": "code",
   "execution_count": 7,
   "metadata": {},
   "outputs": [
    {
     "output_type": "stream",
     "name": "stderr",
     "text": [
      "Using cache found in /root/.cache/torch/hub/facebookresearch_semi-supervised-ImageNet1K-models_master\n"
     ]
    }
   ],
   "source": [
    "device = torch.device('cuda')\n",
    "model = Resnext(model_name=ssl_models[2],num_classes=5,kaggle=True)\n",
    "model = model.to(device)\n"
   ]
  },
  {
   "cell_type": "code",
   "execution_count": 13,
   "metadata": {},
   "outputs": [],
   "source": []
  },
  {
   "cell_type": "code",
   "execution_count": 14,
   "metadata": {},
   "outputs": [
    {
     "output_type": "execute_result",
     "data": {
      "text/plain": [
       "<All keys matched successfully>"
      ]
     },
     "metadata": {},
     "execution_count": 14
    }
   ],
   "source": [
    "chk_path = 'Cassava/jim2mgsp/checkpoints/epoch=4-step=224.ckpt'\n",
    "chk = torch.load(chk_path)\n",
    "model_weights = {k.replace('model.',''):v for k,v in chk['state_dict'].items()}\n",
    "torch.save(model_weights,'model_weights.pth')\n",
    "\n",
    "model.load_state_dict(model_weights)"
   ]
  },
  {
   "cell_type": "code",
   "execution_count": 15,
   "metadata": {},
   "outputs": [],
   "source": [
    "preds = []\n",
    "with torch.no_grad():\n",
    "    for xb,_ in test_dl:\n",
    "        xb = xb.to(device)\n",
    "        pred = model(xb)\n",
    "        preds.extend(pred.argmax(1).to('cpu').tolist())\n",
    "\n",
    "test_df.label = preds\n",
    "test_df.to_csv('submission.csv',index=False)"
   ]
  },
  {
   "cell_type": "code",
   "execution_count": 16,
   "metadata": {},
   "outputs": [
    {
     "output_type": "execute_result",
     "data": {
      "text/plain": [
       "             image_id  label\n",
       "10544   288080098.jpg      3\n",
       "11634  3080364100.jpg      3\n",
       "578     110051175.jpg      3\n",
       "9118   2612067247.jpg      1\n",
       "15857  3852927202.jpg      3"
      ],
      "text/html": "<div>\n<style scoped>\n    .dataframe tbody tr th:only-of-type {\n        vertical-align: middle;\n    }\n\n    .dataframe tbody tr th {\n        vertical-align: top;\n    }\n\n    .dataframe thead th {\n        text-align: right;\n    }\n</style>\n<table border=\"1\" class=\"dataframe\">\n  <thead>\n    <tr style=\"text-align: right;\">\n      <th></th>\n      <th>image_id</th>\n      <th>label</th>\n    </tr>\n  </thead>\n  <tbody>\n    <tr>\n      <th>10544</th>\n      <td>288080098.jpg</td>\n      <td>3</td>\n    </tr>\n    <tr>\n      <th>11634</th>\n      <td>3080364100.jpg</td>\n      <td>3</td>\n    </tr>\n    <tr>\n      <th>578</th>\n      <td>110051175.jpg</td>\n      <td>3</td>\n    </tr>\n    <tr>\n      <th>9118</th>\n      <td>2612067247.jpg</td>\n      <td>1</td>\n    </tr>\n    <tr>\n      <th>15857</th>\n      <td>3852927202.jpg</td>\n      <td>3</td>\n    </tr>\n  </tbody>\n</table>\n</div>"
     },
     "metadata": {},
     "execution_count": 16
    }
   ],
   "source": [
    "test_df.head()"
   ]
  },
  {
   "cell_type": "code",
   "execution_count": null,
   "metadata": {},
   "outputs": [],
   "source": []
  }
 ]
}